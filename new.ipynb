{
 "cells": [
  {
   "cell_type": "markdown",
   "metadata": {},
   "source": [
    "# Handwritten Text Recognition Using Tesseract OCR\n",
    "\n",
    "This notebook demonstrates how to build a simple GUI application using Python for recognizing handwritten text from images using Tesseract OCR. It includes image preprocessing, text extraction, and saving the recognized text into a PDF file.\n"
   ]
  },
  {
   "cell_type": "code",
   "execution_count": 4,
   "metadata": {},
   "outputs": [],
   "source": [
    "# Import required libraries\n",
    "from tkinter import *  # Tkinter for GUI components\n",
    "from tkinter import filedialog  # To use the file dialog for file selection\n",
    "import fpdf  # To create PDFs from recognized text\n",
    "import cv2  # OpenCV for image processing\n",
    "import numpy as np  # For numerical operations\n",
    "from PIL import Image  # PIL for image handling\n",
    "import pytesseract  # OCR library\n",
    "\n",
    "# Set the path to Tesseract executable; ensure Tesseract is installed on your system\n",
    "pytesseract.pytesseract.tesseract_cmd = r\"C:\\Program Files\\Tesseract-OCR\\tesseract.exe\"\n",
    "\n",
    "# Global variable to hold the recognized text\n",
    "result = None\n"
   ]
  },
  {
   "cell_type": "markdown",
   "metadata": {},
   "source": [
    "## Function to Browse and Select an Image\n",
    "\n",
    "The `browseFiles()` function allows the user to select an image file. The function processes the selected image, applies noise removal, and extracts text using Tesseract OCR.\n"
   ]
  },
  {
   "cell_type": "code",
   "execution_count": 6,
   "metadata": {},
   "outputs": [],
   "source": [
    "def browseFiles():\n",
    "    \"\"\"\n",
    "    Function to browse and select an image file.\n",
    "    It processes the selected image and extracts text using Tesseract OCR.\n",
    "    \"\"\"\n",
    "    # File types to filter images\n",
    "    py = r\"*.png *.jpg *.jpeg\"\n",
    "    \n",
    "    # Open file dialog to select an image\n",
    "    filename = filedialog.askopenfilename(initialdir=\"/\", title=\"Select a File\",\n",
    "                                          filetypes=((\"images\", py), (\"all files\", \"*.*\")))\n",
    "    \n",
    "    # Check if the user cancels file selection\n",
    "    if filename == \"\":\n",
    "        return\n",
    "    \n",
    "    # Read image using OpenCV\n",
    "    img = cv2.imread(filename)\n",
    "\n",
    "    # Convert image to grayscale\n",
    "    img = cv2.cvtColor(img, cv2.COLOR_BGR2GRAY)\n",
    "\n",
    "    # Apply dilation and erosion to remove some noise\n",
    "    kernel = np.ones((1, 1), np.uint8)\n",
    "    img = cv2.dilate(img, kernel, iterations=1)\n",
    "    img = cv2.erode(img, kernel, iterations=1)\n",
    "\n",
    "    # Save the processed image (optional, for debugging purposes)\n",
    "    cv2.imwrite(\"removed_noise.png\", img)\n",
    "\n",
    "    # Recognize text from the processed image using Tesseract\n",
    "    global result\n",
    "    result = pytesseract.image_to_string(Image.open(filename))\n",
    "\n",
    "    # Display recognized text on the GUI\n",
    "    label_file_explorer.configure(text=result)\n"
   ]
  },
  {
   "cell_type": "markdown",
   "metadata": {},
   "source": [
    "## Function to Convert Text to PDF\n",
    "\n",
    "The `pdf()` function converts the recognized text into a PDF file and saves it as `converted.pdf`.\n"
   ]
  },
  {
   "cell_type": "code",
   "execution_count": 7,
   "metadata": {},
   "outputs": [],
   "source": [
    "def pdf():\n",
    "    \"\"\"\n",
    "    Function to convert recognized text into a PDF.\n",
    "    \"\"\"\n",
    "    global result\n",
    "    \n",
    "    # Create a new PDF document\n",
    "    pdf = fpdf.FPDF(format='letter')\n",
    "    pdf.add_page()\n",
    "    pdf.set_font(\"Arial\", size=12)\n",
    "    pdf.write(5, result)  # Write the recognized text to the PDF\n",
    "    pdf.ln()  # Add a new line\n",
    "    pdf.output(\"converted.pdf\")  # Save the PDF as 'converted.pdf'\n"
   ]
  },
  {
   "cell_type": "markdown",
   "metadata": {},
   "source": [
    "## Setting Up the Main GUI Window\n",
    "\n",
    "This section sets up the GUI window using Tkinter, including buttons for browsing files and converting text to PDF, and displays the recognized text.\n"
   ]
  },
  {
   "cell_type": "code",
   "execution_count": 8,
   "metadata": {},
   "outputs": [],
   "source": [
    "# Set up the main GUI window\n",
    "window = Tk()\n",
    "window.title('Handwritten Text Recognition')  # Set window title\n",
    "window.geometry(\"700x350\")  # Set window size\n",
    "window.config(background=\"white\")  # Set background color\n",
    "\n",
    "# Label to display the header\n",
    "reg_info = Label(window, text=\"Handwritten Text Recognition Using Pytesseract\", \n",
    "                 width='80', height='2', font=(\"Arial\", 12, \"bold\"), fg=\"black\", bg='lightgrey')\n",
    "reg_info.place(x=370, y=18, anchor='center')\n",
    "\n",
    "# Label to display the recognized text\n",
    "label_file_explorer = Label(window, text=\"See the Output Here\", font=(\"Arial\", 10, \"bold\"),\n",
    "                            width=90, height=12, fg=\"blue\")\n",
    "label_file_explorer.place(x=0, y=35)\n",
    "\n",
    "# Button to browse files\n",
    "button_explore = Button(window, text=\"Browse Files\", fg=\"white\", bg=\"black\", \n",
    "                        font=(\"Arial\", 10, \"bold\"), width=10, command=browseFiles)\n",
    "button_explore.place(x=250, y=270)\n",
    "\n",
    "# Label indicating to select an image\n",
    "text = Label(window, text=\"(Select an image)\", bg=\"white\", fg=\"black\", \n",
    "             font=(\"Arial\", 8, \"bold\"))\n",
    "text.place(x=242, y=300)\n",
    "\n",
    "# Button to convert text to PDF\n",
    "button1 = Button(window, text=\"Convert Text to PDF\", fg=\"white\", bg=\"black\", \n",
    "                 font=(\"Arial\", 10, \"bold\"), width=15, command=pdf)\n",
    "button1.place(x=370, y=270)\n",
    "\n",
    "# Run the GUI event loop\n",
    "window.mainloop()\n"
   ]
  },
  {
   "cell_type": "markdown",
   "metadata": {},
   "source": [
    "## Text Comparison and Accuracy Check\n",
    "\n",
    "The final section compares the recognized text with a predefined sample text and calculates the similarity percentage to estimate the accuracy of the OCR.\n"
   ]
  },
  {
   "cell_type": "code",
   "execution_count": 9,
   "metadata": {},
   "outputs": [
    {
     "name": "stdout",
     "output_type": "stream",
     "text": [
      "\n",
      "The accuracy of the model is 83.44370860927152%\n",
      "\n"
     ]
    }
   ],
   "source": [
    "# Text comparison and accuracy check\n",
    "from difflib import SequenceMatcher\n",
    "\n",
    "# Check if there is recognized text available for comparison\n",
    "if result is not None:\n",
    "    # Sample text to compare with recognized text (can be replaced with your ground truth)\n",
    "    s = \"We start With good\\n\\nBecause all businesses should\\n\\nbe doing something good\"\n",
    "    s1 = result\n",
    "\n",
    "    # Function to calculate similarity between two texts\n",
    "    def similar(a, b):\n",
    "        return \"\\nThe accuracy of the model is \" + str(SequenceMatcher(None, a, b).ratio() * 100) + \"%\\n\"\n",
    "\n",
    "    # Print the accuracy of the OCR result compared to the sample text\n",
    "    print(similar(s, s1))\n",
    "    result = None\n"
   ]
  }
 ],
 "metadata": {
  "kernelspec": {
   "display_name": "Python 3",
   "language": "python",
   "name": "python3"
  },
  "language_info": {
   "codemirror_mode": {
    "name": "ipython",
    "version": 3
   },
   "file_extension": ".py",
   "mimetype": "text/x-python",
   "name": "python",
   "nbconvert_exporter": "python",
   "pygments_lexer": "ipython3",
   "version": "3.12.1"
  }
 },
 "nbformat": 4,
 "nbformat_minor": 2
}
